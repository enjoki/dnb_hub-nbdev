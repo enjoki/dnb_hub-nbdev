{
 "cells": [
  {
   "cell_type": "markdown",
   "id": "119677bb-4161-4d22-9ade-24b391155028",
   "metadata": {},
   "source": [
    "## Fetching ipc_classifications using API"
   ]
  },
  {
   "cell_type": "markdown",
   "metadata": {},
   "source": [
    "## Import libraries"
   ]
  },
  {
   "cell_type": "code",
   "execution_count": null,
   "id": "8834ae89-87ef-4ea5-8cee-c266f053eda4",
   "metadata": {},
   "outputs": [],
   "source": [
    "import pandas as pd\n",
    "import numpy as np\n",
    "import plotly\n",
    "import os\n",
    "import json\n",
    "import requests\n",
    "\n",
    "import plotly.express as px\n",
    "\n",
    "pd.set_option('display.max_columns', None)\n",
    "pd.set_option('display.max_rows', None)"
   ]
  },
  {
   "cell_type": "markdown",
   "id": "db8ac2e0-51d7-40ab-8e88-2028af4f3648",
   "metadata": {},
   "source": [
    "### function to make API calls"
   ]
  },
  {
   "cell_type": "code",
   "execution_count": null,
   "id": "eacca949-9f85-43cc-9b60-85c0be0b6835",
   "metadata": {},
   "outputs": [],
   "source": [
    "# function to fetch data\n",
    "def fetch_data(url):\n",
    "    response = requests.get(url)\n",
    "\n",
    "    if response.status_code == 200:\n",
    "        data = response.json()\n",
    "        df = pd.DataFrame(data)\n",
    "        return df\n",
    "    else:\n",
    "        print(f\"Failed to fetch data: {response.status_code} \")\n",
    "        "
   ]
  },
  {
   "cell_type": "markdown",
   "metadata": {},
   "source": [
    "### Fetch data"
   ]
  },
  {
   "cell_type": "code",
   "execution_count": null,
   "id": "41f14dcd-5e48-4e37-affa-ec5a0a3ca2e1",
   "metadata": {},
   "outputs": [],
   "source": [
    "url = \"https://fdw.fews.net/api/ipcclassification/\"\n",
    "data = fetch_data(url)"
   ]
  },
  {
   "cell_type": "code",
   "execution_count": null,
   "id": "fc1bc31a-ddf9-4e55-a91f-8c68205d019c",
   "metadata": {},
   "outputs": [],
   "source": [
    "classified_prds = data\n",
    "classified_prds.shape"
   ]
  },
  {
   "cell_type": "markdown",
   "metadata": {},
   "source": [
    "### View  data"
   ]
  },
  {
   "cell_type": "code",
   "execution_count": null,
   "id": "5a0e78c3-7f6b-4945-8556-db5ee621829c",
   "metadata": {},
   "outputs": [],
   "source": [
    "classified_prds.head()"
   ]
  },
  {
   "cell_type": "code",
   "execution_count": null,
   "id": "f3aa729c-7592-43a0-97d3-412f969e281a",
   "metadata": {},
   "outputs": [],
   "source": []
  }
 ],
 "metadata": {
  "kernelspec": {
   "display_name": "Python 3 (ipykernel)",
   "language": "python",
   "name": "python3"
  },
  "language_info": {
   "codemirror_mode": {
    "name": "ipython",
    "version": 3
   },
   "file_extension": ".py",
   "mimetype": "text/x-python",
   "name": "python",
   "nbconvert_exporter": "python",
   "pygments_lexer": "ipython3",
   "version": "3.10.9"
  }
 },
 "nbformat": 4,
 "nbformat_minor": 5
}
