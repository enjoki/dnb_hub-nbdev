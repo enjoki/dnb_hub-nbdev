{
 "cells": [
  {
   "cell_type": "markdown",
   "id": "119677bb-4161-4d22-9ade-24b391155028",
   "metadata": {},
   "source": [
    "## Fetching classified products usign API"
   ]
  },
  {
   "cell_type": "markdown",
   "metadata": {},
   "source": [
    "## Import libraries"
   ]
  },
  {
   "cell_type": "code",
   "execution_count": null,
   "id": "8834ae89-87ef-4ea5-8cee-c266f053eda4",
   "metadata": {},
   "outputs": [],
   "source": [
    "import pandas as pd\n",
    "import numpy as np\n",
    "import plotly\n",
    "import os\n",
    "import json\n",
    "import requests\n",
    "\n",
    "import plotly.express as px\n",
    "\n",
    "pd.set_option('display.max_columns', None)\n",
    "pd.set_option('display.max_rows', None)"
   ]
  },
  {
   "cell_type": "markdown",
   "id": "db8ac2e0-51d7-40ab-8e88-2028af4f3648",
   "metadata": {},
   "source": [
    "### function to make AI calls"
   ]
  },
  {
   "cell_type": "code",
   "execution_count": null,
   "id": "eacca949-9f85-43cc-9b60-85c0be0b6835",
   "metadata": {},
   "outputs": [],
   "source": [
    "# function to fetch data\n",
    "def fetch_data(url):\n",
    "    response = requests.get(url)\n",
    "\n",
    "    if response.status_code == 200:\n",
    "        data = response.json()\n",
    "        df = pd.DataFrame(data)\n",
    "        return df\n",
    "    else:\n",
    "        print(f\"Failed to fetch data: {response.status_code} \")\n",
    "        "
   ]
  },
  {
   "cell_type": "markdown",
   "metadata": {},
   "source": [
    "### fetch the data"
   ]
  },
  {
   "cell_type": "code",
   "execution_count": null,
   "id": "41f14dcd-5e48-4e37-affa-ec5a0a3ca2e1",
   "metadata": {},
   "outputs": [],
   "source": [
    "url = \"https://fdw.fews.net/api/classifiedproduct/\"\n",
    "data = fetch_data(url)"
   ]
  },
  {
   "cell_type": "code",
   "execution_count": null,
   "id": "fc1bc31a-ddf9-4e55-a91f-8c68205d019c",
   "metadata": {},
   "outputs": [],
   "source": [
    "classified_prds = data\n",
    "classified_prds.shape"
   ]
  },
  {
   "cell_type": "markdown",
   "metadata": {},
   "source": [
    "### view the data"
   ]
  },
  {
   "cell_type": "code",
   "execution_count": null,
   "id": "5a0e78c3-7f6b-4945-8556-db5ee621829c",
   "metadata": {},
   "outputs": [],
   "source": [
    "classified_prds.head()"
   ]
  },
  {
   "cell_type": "code",
   "execution_count": null,
   "id": "f3aa729c-7592-43a0-97d3-412f969e281a",
   "metadata": {},
   "outputs": [],
   "source": [
    "classified_prds.tail()"
   ]
  },
  {
   "cell_type": "code",
   "execution_count": null,
   "id": "d2ea7c59-f770-412e-9782-6af970243b6b",
   "metadata": {},
   "outputs": [],
   "source": [
    "# testing the notebook"
   ]
  },
  {
   "cell_type": "code",
   "execution_count": null,
   "id": "b22fce0b-d7fa-4db5-91a6-ba32176e9ed2",
   "metadata": {},
   "outputs": [],
   "source": []
  }
 ],
 "metadata": {
  "kernelspec": {
   "display_name": "python3",
   "language": "python",
   "name": "python3"
  }
 },
 "nbformat": 4,
 "nbformat_minor": 5
}
